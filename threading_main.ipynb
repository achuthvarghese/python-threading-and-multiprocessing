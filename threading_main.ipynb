{
 "cells": [
  {
   "cell_type": "markdown",
   "metadata": {},
   "source": [
    "# Python Threading\n"
   ]
  },
  {
   "cell_type": "code",
   "execution_count": 18,
   "metadata": {},
   "outputs": [],
   "source": [
    "# imports\n",
    "import time\n",
    "import threading"
   ]
  },
  {
   "cell_type": "code",
   "execution_count": 19,
   "metadata": {},
   "outputs": [],
   "source": [
    "# Start time of script\n",
    "start = time.perf_counter()"
   ]
  },
  {
   "cell_type": "code",
   "execution_count": 20,
   "metadata": {},
   "outputs": [],
   "source": [
    "# Simple function which sleeps for {sleep_seconds} second(s)\n",
    "def do_something(sleep_seconds=0):\n",
    "    print(f\"Start sleeping for {sleep_seconds} second(s)\")\n",
    "    time.sleep(sleep_seconds)\n",
    "    print(f\"Done sleeping for {sleep_seconds} second(s)\")"
   ]
  },
  {
   "cell_type": "code",
   "execution_count": 24,
   "metadata": {},
   "outputs": [
    {
     "name": "stdout",
     "output_type": "stream",
     "text": [
      "Start sleeping for 1 second(s)\n",
      "Start sleeping for 1 second(s)\n",
      "Start sleeping for 1 second(s)\n",
      "Start sleeping for 1 second(s)\n",
      "Start sleeping for 1 second(s)\n",
      "Done sleeping for 1 second(s)\n",
      "Done sleeping for 1 second(s)\n",
      "Done sleeping for 1 second(s)\n",
      "Done sleeping for 1 second(s)\n",
      "Done sleeping for 1 second(s)\n"
     ]
    }
   ],
   "source": [
    "x = 5  # number of threads\n",
    "threads = []  # empty list to store threads\n",
    "\n",
    "for _ in range(x):\n",
    "    t = threading.Thread(target=do_something, kwargs={\"sleep_seconds\": 1})\n",
    "    t.start()\n",
    "    threads.append(t)\n",
    "\n",
    "for thread in threads:\n",
    "    thread.join()"
   ]
  },
  {
   "cell_type": "code",
   "execution_count": 22,
   "metadata": {},
   "outputs": [
    {
     "name": "stdout",
     "output_type": "stream",
     "text": [
      "completed in 1.11 second(s)\n"
     ]
    }
   ],
   "source": [
    "# End time of script\n",
    "end = time.perf_counter()\n",
    "\n",
    "print(f\"completed in {round(end-start, 2)} second(s)\")"
   ]
  }
 ],
 "metadata": {
  "kernelspec": {
   "display_name": "Python 3.8.10 64-bit ('venv': venv)",
   "language": "python",
   "name": "python3"
  },
  "language_info": {
   "codemirror_mode": {
    "name": "ipython",
    "version": 3
   },
   "file_extension": ".py",
   "mimetype": "text/x-python",
   "name": "python",
   "nbconvert_exporter": "python",
   "pygments_lexer": "ipython3",
   "version": "3.10.4"
  },
  "orig_nbformat": 4,
  "vscode": {
   "interpreter": {
    "hash": "e85adeb50de7b5bcc13e766d1e2bde1de5721fa901f5585a126635701f7b91a3"
   }
  }
 },
 "nbformat": 4,
 "nbformat_minor": 2
}
